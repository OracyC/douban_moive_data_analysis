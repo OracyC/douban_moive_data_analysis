{
  "nbformat": 4,
  "nbformat_minor": 0,
  "metadata": {
    "kernelspec": {
      "display_name": "Python 3",
      "language": "python",
      "name": "python3"
    },
    "language_info": {
      "codemirror_mode": {
        "name": "ipython",
        "version": 3
      },
      "file_extension": ".py",
      "mimetype": "text/x-python",
      "name": "python",
      "nbconvert_exporter": "python",
      "pygments_lexer": "ipython3",
      "version": "3.7.3"
    },
    "colab": {
      "name": "analysis.ipynb",
      "provenance": [],
      "include_colab_link": true
    }
  },
  "cells": [
    {
      "cell_type": "markdown",
      "metadata": {
        "id": "view-in-github",
        "colab_type": "text"
      },
      "source": [
        "<a href=\"https://colab.research.google.com/github/OracyC/douban_moive_data_analysis/blob/master/analysis.ipynb\" target=\"_parent\"><img src=\"https://colab.research.google.com/assets/colab-badge.svg\" alt=\"Open In Colab\"/></a>"
      ]
    },
    {
      "cell_type": "code",
      "metadata": {
        "id": "2ictp6TYF9xg",
        "outputId": "a1d2a29f-0522-4f2b-97a4-5043c96dba59"
      },
      "source": [
        "import pandas as pd\n",
        "import numpy as np\n",
        "import seaborn as sns\n",
        "import matplotlib.pyplot as plt\n",
        "from wordcloud import WordCloud, STOPWORDS, ImageColorGenerator"
      ],
      "execution_count": null,
      "outputs": [
        {
          "output_type": "error",
          "ename": "ModuleNotFoundError",
          "evalue": "No module named 'wordcloud'",
          "traceback": [
            "\u001b[1;31m---------------------------------------------------------------------------\u001b[0m",
            "\u001b[1;31mModuleNotFoundError\u001b[0m                       Traceback (most recent call last)",
            "\u001b[1;32m<ipython-input-8-e9f27a685149>\u001b[0m in \u001b[0;36m<module>\u001b[1;34m\u001b[0m\n\u001b[0;32m      3\u001b[0m \u001b[1;32mimport\u001b[0m \u001b[0mseaborn\u001b[0m \u001b[1;32mas\u001b[0m \u001b[0msns\u001b[0m\u001b[1;33m\u001b[0m\u001b[1;33m\u001b[0m\u001b[0m\n\u001b[0;32m      4\u001b[0m \u001b[1;32mimport\u001b[0m \u001b[0mmatplotlib\u001b[0m\u001b[1;33m.\u001b[0m\u001b[0mpyplot\u001b[0m \u001b[1;32mas\u001b[0m \u001b[0mplt\u001b[0m\u001b[1;33m\u001b[0m\u001b[1;33m\u001b[0m\u001b[0m\n\u001b[1;32m----> 5\u001b[1;33m \u001b[1;32mfrom\u001b[0m \u001b[0mwordcloud\u001b[0m \u001b[1;32mimport\u001b[0m \u001b[0mWordCloud\u001b[0m\u001b[1;33m,\u001b[0m \u001b[0mSTOPWORDS\u001b[0m\u001b[1;33m,\u001b[0m \u001b[0mImageColorGenerator\u001b[0m\u001b[1;33m\u001b[0m\u001b[1;33m\u001b[0m\u001b[0m\n\u001b[0m",
            "\u001b[1;31mModuleNotFoundError\u001b[0m: No module named 'wordcloud'"
          ]
        }
      ]
    },
    {
      "cell_type": "code",
      "metadata": {
        "id": "-S1X73x7F9xl"
      },
      "source": [
        "data = pd.read_csv('douban_movie_top250.csv')"
      ],
      "execution_count": null,
      "outputs": []
    },
    {
      "cell_type": "code",
      "metadata": {
        "id": "LlQbhT_sF9xo",
        "outputId": "d2ef112e-2983-407d-e86a-73202001ce3c"
      },
      "source": [
        "data.head()"
      ],
      "execution_count": null,
      "outputs": [
        {
          "output_type": "execute_result",
          "data": {
            "text/html": [
              "<div>\n",
              "<style scoped>\n",
              "    .dataframe tbody tr th:only-of-type {\n",
              "        vertical-align: middle;\n",
              "    }\n",
              "\n",
              "    .dataframe tbody tr th {\n",
              "        vertical-align: top;\n",
              "    }\n",
              "\n",
              "    .dataframe thead th {\n",
              "        text-align: right;\n",
              "    }\n",
              "</style>\n",
              "<table border=\"1\" class=\"dataframe\">\n",
              "  <thead>\n",
              "    <tr style=\"text-align: right;\">\n",
              "      <th></th>\n",
              "      <th>movie_name</th>\n",
              "      <th>movie_date</th>\n",
              "      <th>movie_description</th>\n",
              "      <th>movie_rate</th>\n",
              "      <th>movie_director</th>\n",
              "      <th>movie_type</th>\n",
              "      <th>movie_lanuage</th>\n",
              "      <th>movie_star</th>\n",
              "    </tr>\n",
              "  </thead>\n",
              "  <tbody>\n",
              "    <tr>\n",
              "      <th>0</th>\n",
              "      <td>肖申克的救赎</td>\n",
              "      <td>1994</td>\n",
              "      <td>希望让人自由。</td>\n",
              "      <td>794808人评价</td>\n",
              "      <td>弗兰克·德拉邦特 Frank Darabont</td>\n",
              "      <td>犯罪 剧情</td>\n",
              "      <td>美国</td>\n",
              "      <td>9.6</td>\n",
              "    </tr>\n",
              "    <tr>\n",
              "      <th>1</th>\n",
              "      <td>这个杀手不太冷</td>\n",
              "      <td>1994</td>\n",
              "      <td>怪蜀黍和小萝莉不得不说的故事。</td>\n",
              "      <td>762932人评价</td>\n",
              "      <td>吕克·贝松 Luc Besson</td>\n",
              "      <td>剧情 动作 犯罪</td>\n",
              "      <td>法国</td>\n",
              "      <td>9.4</td>\n",
              "    </tr>\n",
              "    <tr>\n",
              "      <th>2</th>\n",
              "      <td>霸王别姬</td>\n",
              "      <td>1993</td>\n",
              "      <td>风华绝代。</td>\n",
              "      <td>560714人评价</td>\n",
              "      <td>陈凯歌 Kaige Chen</td>\n",
              "      <td>剧情 爱情 同性</td>\n",
              "      <td>中国大陆 香港</td>\n",
              "      <td>9.5</td>\n",
              "    </tr>\n",
              "    <tr>\n",
              "      <th>3</th>\n",
              "      <td>阿甘正传</td>\n",
              "      <td>1994</td>\n",
              "      <td>一部美国近现代史。</td>\n",
              "      <td>657190人评价</td>\n",
              "      <td>Robert Zemeckis</td>\n",
              "      <td>剧情 爱情</td>\n",
              "      <td>美国</td>\n",
              "      <td>9.4</td>\n",
              "    </tr>\n",
              "    <tr>\n",
              "      <th>4</th>\n",
              "      <td>美丽人生</td>\n",
              "      <td>1997</td>\n",
              "      <td>最美的谎言。</td>\n",
              "      <td>379377人评价</td>\n",
              "      <td>罗伯托·贝尼尼 Roberto Benigni</td>\n",
              "      <td>剧情 喜剧 爱情 战争</td>\n",
              "      <td>意大利</td>\n",
              "      <td>9.5</td>\n",
              "    </tr>\n",
              "  </tbody>\n",
              "</table>\n",
              "</div>"
            ],
            "text/plain": [
              "  movie_name  movie_date movie_description movie_rate  \\\n",
              "0     肖申克的救赎        1994           希望让人自由。  794808人评价   \n",
              "1    这个杀手不太冷        1994   怪蜀黍和小萝莉不得不说的故事。  762932人评价   \n",
              "2       霸王别姬        1993             风华绝代。  560714人评价   \n",
              "3       阿甘正传        1994         一部美国近现代史。  657190人评价   \n",
              "4       美丽人生        1997            最美的谎言。  379377人评价   \n",
              "\n",
              "            movie_director   movie_type movie_lanuage  movie_star  \n",
              "0  弗兰克·德拉邦特 Frank Darabont        犯罪 剧情            美国         9.6  \n",
              "1         吕克·贝松 Luc Besson     剧情 动作 犯罪            法国         9.4  \n",
              "2           陈凯歌 Kaige Chen     剧情 爱情 同性       中国大陆 香港         9.5  \n",
              "3          Robert Zemeckis        剧情 爱情            美国         9.4  \n",
              "4  罗伯托·贝尼尼 Roberto Benigni  剧情 喜剧 爱情 战争           意大利         9.5  "
            ]
          },
          "metadata": {
            "tags": []
          },
          "execution_count": 6
        }
      ]
    },
    {
      "cell_type": "code",
      "metadata": {
        "id": "L7JKDctYF9xq"
      },
      "source": [
        "import seaborn as sns\n",
        "import matplotlib.pyplot as plt"
      ],
      "execution_count": null,
      "outputs": []
    }
  ]
}